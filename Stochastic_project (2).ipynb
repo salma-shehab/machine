{
 "cells": [
  {
   "cell_type": "code",
   "execution_count": 1,
   "id": "9a3f2eec-b22e-4b95-b61b-3e36b6fb95b9",
   "metadata": {},
   "outputs": [],
   "source": [
    "import numpy as np"
   ]
  },
  {
   "cell_type": "markdown",
   "id": "631a280e-282a-486c-ab8d-c35f74596630",
   "metadata": {},
   "source": [
    "# y observations, A transition matrix, B emission matrix, pi initial prob."
   ]
  },
  {
   "cell_type": "code",
   "execution_count": 3,
   "id": "26db036a-b11e-47db-aad6-2aada0a22fb6",
   "metadata": {},
   "outputs": [],
   "source": [
    "def forward(Y, A, B, pi):\n",
    "    T = len(Y)\n",
    "    N = len(pi)\n",
    "    alpha = np.zeros((T, N))\n",
    "\n",
    "    # Initialization\n",
    "    alpha[0, :] = pi * B[:, Y[0]]\n",
    "\n",
    "    # Recursion\n",
    "    for t in range(1, T):\n",
    "        for j in range(N):\n",
    "            alpha[t, j] = np.sum(alpha[t - 1, :] * A[:, j]) * B[j, Y[t]]\n",
    "\n",
    "    return alpha"
   ]
  },
  {
   "cell_type": "code",
   "execution_count": 4,
   "id": "93fd1e0a-a9c9-42b8-8b2e-ea4e4386b684",
   "metadata": {},
   "outputs": [],
   "source": [
    "def backward(Y, A, B):\n",
    "    T = len(Y)\n",
    "    N = A.shape[0]\n",
    "    beta = np.zeros((T, N))\n",
    "\n",
    "    # Initialization\n",
    "    beta[T - 1, :] = 1\n",
    "\n",
    "    # Recursion\n",
    "    for t in range(T - 2, -1, -1):\n",
    "        for i in range(N):\n",
    "            beta[t, i] = np.sum(A[i, :] * B[:, Y[t + 1]] * beta[t + 1, :])\n",
    "\n",
    "    return beta"
   ]
  },
  {
   "cell_type": "code",
   "execution_count": 5,
   "id": "a787047f-222d-4da4-b6dd-4d6acde6af85",
   "metadata": {},
   "outputs": [],
   "source": [
    "def baum_welch(Y, A, B, pi, max_iter=100, tol=1e-4):\n",
    "    N = A.shape[0]\n",
    "    M = B.shape[1]  \n",
    "    T = len(Y)     \n",
    "\n",
    "    # First iteration\n",
    "    alpha = forward(Y, A, B, pi)\n",
    "    beta = backward(Y, A, B)\n",
    "\n",
    "    # Compute gamma and xi after the first iteration\n",
    "    gamma = np.zeros((T, N))\n",
    "    xi = np.zeros((T - 1, N, N))\n",
    "\n",
    "    for t in range(T):\n",
    "        gamma[t, :] = (alpha[t, :] * beta[t, :]) / np.sum(alpha[t, :] * beta[t, :])\n",
    "\n",
    "    for t in range(T - 1):\n",
    "        denom = np.sum(alpha[t, :, None] * A * B[:, Y[t + 1]] * beta[t + 1, :])\n",
    "        for i in range(N):\n",
    "            xi[t, i, :] = (alpha[t, i] * A[i, :] * B[:, Y[t + 1]] * beta[t + 1, :]) / denom\n",
    "\n",
    "    # Update parameters after the first iteration\n",
    "    pi = gamma[0, :]\n",
    "\n",
    "    for i in range(N):\n",
    "        for j in range(N):\n",
    "            A[i, j] = np.sum(xi[:, i, j]) / np.sum(gamma[:-1, i])\n",
    "\n",
    "    for j in range(N):\n",
    "        for k in range(M):\n",
    "            B[j, k] = np.sum(gamma[Y == k, j]) / np.sum(gamma[:, j])\n",
    "\n",
    "# Print results after first iteration\n",
    "    print(\"First Iteration:\")\n",
    "    print(\"\\nTrained Transition Probabilities (Rainy/Sunny):\")\n",
    "    for i, row in enumerate(A):\n",
    "        print(f\"From {states[i]}: {dict(zip(states, row))}\")\n",
    "\n",
    "    print(\"\\nTrained Emission Probabilities (Rainy/Sunny):\")\n",
    "    for i, row in enumerate(B):\n",
    "        print(f\"From {states[i]}: {dict(zip(observations, row))}\")\n",
    "\n",
    "    print(\"\\nTrained Initial Probabilities:\")\n",
    "    for i, p in enumerate(pi):\n",
    "        print(f\"{states[i]}: {p}\")\n",
    "\n",
    "# Store current A and B as old to check for convergence in subsequent iterations\n",
    "    A_old, B_old = A.copy(), B.copy()\n",
    "\n",
    "# Now continue with the rest of the iterations until max_iter or tolerance\n",
    "    for iteration in range(1, max_iter):\n",
    "        alpha = forward(Y, A, B, pi)\n",
    "        beta = backward(Y, A, B)\n",
    "\n",
    "        # Compute gamma and xi\n",
    "        gamma = np.zeros((T, N))\n",
    "        xi = np.zeros((T - 1, N, N))\n",
    "\n",
    "        for t in range(T):\n",
    "            gamma[t, :] = (alpha[t, :] * beta[t, :]) / np.sum(alpha[t, :] * beta[t, :])\n",
    "\n",
    "        for t in range(T - 1):\n",
    "            denom = np.sum(alpha[t, :, None] * A * B[:, Y[t + 1]] * beta[t + 1, :])\n",
    "            for i in range(N):\n",
    "                xi[t, i, :] = (alpha[t, i] * A[i, :] * B[:, Y[t + 1]] * beta[t + 1, :]) / denom\n",
    "\n",
    "        # Update parameters\n",
    "        pi = gamma[0, :]\n",
    "\n",
    "        for i in range(N):\n",
    "            for j in range(N):\n",
    "                A[i, j] = np.sum(xi[:, i, j]) / np.sum(gamma[:-1, i])\n",
    "\n",
    "        for j in range(N):\n",
    "            for k in range(M):\n",
    "                B[j, k] = np.sum(gamma[Y == k, j]) / np.sum(gamma[:, j])\n",
    "\n",
    "        # Check for convergence based on tolerance\n",
    "        if np.abs(A - A_old).max() < tol and np.abs(B - B_old).max() < tol:\n",
    "            break\n",
    "\n",
    "        A_old, B_old = A.copy(), B.copy()\n",
    "\n",
    "    return A, B, pi"
   ]
  },
  {
   "cell_type": "code",
   "execution_count": 6,
   "id": "91ded3cb-9e21-417a-8f72-225929f555bb",
   "metadata": {},
   "outputs": [
    {
     "name": "stdout",
     "output_type": "stream",
     "text": [
      "First Iteration:\n",
      "\n",
      "Trained Transition Probabilities (Rainy/Sunny):\n",
      "From Rainy: {'Rainy': 0.666044776119403, 'Sunny': 0.333955223880597}\n",
      "From Sunny: {'Rainy': 0.4493227463801962, 'Sunny': 0.5506772536198038}\n",
      "\n",
      "Trained Emission Probabilities (Rainy/Sunny):\n",
      "From Rainy: {'Walk': 0.28445073412347427, 'Shop': 0.0, 'Clean': 0.7155492658765258}\n",
      "From Sunny: {'Walk': 0.8916189484643415, 'Shop': 0.0, 'Clean': 0.1083810515356585}\n",
      "\n",
      "Trained Initial Probabilities:\n",
      "Rainy: 0.14431773495871017\n",
      "Sunny: 0.8556822650412899\n"
     ]
    }
   ],
   "source": [
    "# Parameters\n",
    "states = [\"Rainy\", \"Sunny\"]\n",
    "observations = [\"Walk\", \"Shop\", \"Clean\"]\n",
    "state_to_idx = {s: i for i, s in enumerate(states)}\n",
    "obs_to_idx = {o: i for i, o in enumerate(observations)}\n",
    "\n",
    "pi = np.array([0.6, 0.4])  # Initial probabilities\n",
    "A = np.array([[0.7, 0.3], [0.4, 0.6]])  # Transition probabilities\n",
    "B = np.array([[0.1, 0.4, 0.5], [0.6, 0.3, 0.1]])  # Emission probabilities\n",
    "Y = np.array([obs_to_idx[o] for o in [\"Walk\", \"Walk\", \"Clean\"]])  # Observation sequence\n",
    "\n",
    "# Train the HMM with max iterations set to 200\n",
    "A_trained, B_trained, pi_trained = baum_welch(Y, A, B, pi, max_iter=200)"
   ]
  },
  {
   "cell_type": "code",
   "execution_count": 7,
   "id": "f5cb39d9-fba8-4440-987e-bb2b4c336dea",
   "metadata": {},
   "outputs": [
    {
     "name": "stdout",
     "output_type": "stream",
     "text": [
      "\n",
      "Trained Transition Probabilities (Rainy/Sunny):\n",
      "From Rainy: {'Rainy': 1.0, 'Sunny': 7.408542529169662e-87}\n",
      "From Sunny: {'Rainy': 0.6665149574904744, 'Sunny': 0.33348504250952565}\n",
      "\n",
      "Trained Emission Probabilities (Rainy/Sunny):\n",
      "From Rainy: {'Walk': 0.3331815551250396, 'Shop': 0.0, 'Clean': 0.6668184448749603}\n",
      "From Sunny: {'Walk': 0.9999999999655821, 'Shop': 0.0, 'Clean': 3.441793992237612e-11}\n",
      "\n",
      "Trained Initial Probabilities:\n",
      "Rainy: 6.573408389534184e-13\n",
      "Sunny: 0.9999999999993426\n"
     ]
    }
   ],
   "source": [
    "# Display human-readable results\n",
    "print(\"\\nTrained Transition Probabilities (Rainy/Sunny):\")\n",
    "for i, row in enumerate(A_trained):\n",
    "    print(f\"From {states[i]}: {dict(zip(states, row))}\")\n",
    "\n",
    "print(\"\\nTrained Emission Probabilities (Rainy/Sunny):\")\n",
    "for i, row in enumerate(B_trained):\n",
    "    print(f\"From {states[i]}: {dict(zip(observations, row))}\")\n",
    "\n",
    "print(\"\\nTrained Initial Probabilities:\")\n",
    "for i, p in enumerate(pi_trained):\n",
    "    print(f\"{states[i]}: {p}\")"
   ]
  },
  {
   "cell_type": "code",
   "execution_count": null,
   "id": "b9e24edf-a825-463a-bc8e-a4d2a6e0101c",
   "metadata": {},
   "outputs": [],
   "source": []
  }
 ],
 "metadata": {
  "kernelspec": {
   "display_name": "Python 3 (ipykernel)",
   "language": "python",
   "name": "python3"
  },
  "language_info": {
   "codemirror_mode": {
    "name": "ipython",
    "version": 3
   },
   "file_extension": ".py",
   "mimetype": "text/x-python",
   "name": "python",
   "nbconvert_exporter": "python",
   "pygments_lexer": "ipython3",
   "version": "3.12.7"
  }
 },
 "nbformat": 4,
 "nbformat_minor": 5
}
